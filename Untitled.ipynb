{
 "cells": [
  {
   "cell_type": "code",
   "execution_count": 3,
   "metadata": {},
   "outputs": [],
   "source": [
    "#source('conformal.pred.split.sl.R')\n",
    "#estimate residuals in DRP and WCP efficiently using SuperLearner\n",
    "#Use D1 to estimate r, whole data D1 and D2 to estimate two nuisance parameters pi and m, use D2 to evaluation f function\n",
    "rm(list = ls())\n",
    "alpha=0.1\n",
    "N=2000\n",
    "n=600\n",
    "p=4\n",
    "trunc_list = c(0.9,1)\n",
    "method_r = c(\"SL.ridge\")\n",
    "#method_r = c(\"SL.bartMachine\",\"SL.ridge\",\"SL.glm\")\n",
    "method_pi = c(\"SL.mean\",\"SL.randomForest\",\"SL.glm\")\n",
    "method_m = c(\"SL.mean\",\"SL.randomForest\",\"SL.glm\")\n",
    "prop_train=0.3\n",
    "\n",
    "expit = function(u){\n",
    "  exp(u)/(1+exp(u))\n",
    "}\n",
    "\n",
    "w = function(x,eta){\n",
    "  #expit(x%*% c(-1,0.5,-0.25,-0.1))\n",
    "  exp(x%*% c(-1,0.5,-0.25,-0.1)*eta)\n",
    "}\n",
    "\n",
    "wsample = function(wts, frac=1) {\n",
    "  n = length(wts)\n",
    "  i = c()\n",
    "  while(length(i) < n*frac) {\n",
    "    j = which( runif(n) <= wts/sum(wts)  )[1] \n",
    "    if ( !is.na(j) ) {\n",
    "      i = c(i, j )\n",
    "    }\n",
    "  }\n",
    "  return(i)\n",
    "}\n",
    "\n",
    "conformal.pred.sl.fast <- function (x,x0,ind_train0,m=1,pred,res, alpha=0.1,w=NULL){\n",
    "  x = as.matrix(x)\n",
    "  n = nrow(x)\n",
    "  n0 = nrow(x0)\n",
    "  i1=ind_train0\n",
    "  i2 = (1:n)[-i1]\n",
    "  res = matrix(res, ncol = m)\n",
    "  pred = matrix(pred, ncol=m)\n",
    "  # res = abs(y[i2] - matrix(predict.fun(out, x[i2, , drop = F]), nrow = n2))\n",
    "  lo = up = matrix(0, n0, m)\n",
    "  \n",
    "  mad.x0 = rep(1, n0)\n",
    "  \n",
    "  weighted.quantile = function(v, prob, w=NULL, sorted=FALSE) {\n",
    "    if (is.null(w)) w = rep(1,length(v))\n",
    "    if (!sorted) { o = order(v); v = v[o]; w = w[o] }\n",
    "    t = pmax(pmin(w, 10), 0.05)\n",
    "    ww = t/sum(t)\n",
    "    i = which(cumsum(ww) >= prob)\n",
    "    #if (length(i)==0) return(Inf) # Can happen with infinite weights\n",
    "    if(length(i)==1 || length(i)==0){\n",
    "      return(max(v[-length(v)]))\n",
    "    }else{\n",
    "        return(v[min(i)])\n",
    "    } \n",
    "  }\n",
    "  \n",
    "  for (l in 1:m) {\n",
    "    \n",
    "    o = order(res[, l])\n",
    "    r = res[o, l]\n",
    "    ww = w[i2][o]\n",
    "    for (i in 1:n0) {\n",
    "      q = weighted.quantile(c(r, Inf), 1 - alpha, w = c(ww, w[n + i]), sorted = TRUE)\n",
    "      lo[i, l] = pred[i, l] - q * mad.x0[i]\n",
    "      up[i, l] = pred[i, l] + q * mad.x0[i]\n",
    "    }\n",
    "  }\n",
    "  return(list(lo = lo, up = up))\n",
    "}\n",
    "\n"
   ]
  },
  {
   "cell_type": "code",
   "execution_count": 4,
   "metadata": {},
   "outputs": [],
   "source": [
    "R = 40\n",
    "beta = c(27.4,13.7,13.7,13.7)\n",
    "\n",
    "eta_list = seq(1,10,by = 1)\n",
    "cov.mat = len.mat = array(0,dim=c(length(eta_list),length(trunc_list),R,2))\n",
    "up.all = lo.all = cov.all = array(0,dim=c(length(eta_list),2,length(trunc_list),R,N-n))\n",
    "\n",
    "truncation_mat = array(0,dim = c(length(eta_list), length(trunc_list),R))\n"
   ]
  },
  {
   "cell_type": "code",
   "execution_count": 7,
   "metadata": {},
   "outputs": [],
   "source": [
    "l=1\n",
    "j=1"
   ]
  },
  {
   "cell_type": "code",
   "execution_count": 9,
   "metadata": {},
   "outputs": [
    {
     "name": "stdout",
     "output_type": "stream",
     "text": [
      "1 .. "
     ]
    },
    {
     "name": "stderr",
     "output_type": "stream",
     "text": [
      "Loading required namespace: MASS\n",
      "\n"
     ]
    }
   ],
   "source": [
    "eta = eta_list[l]\n",
    "set.seed(j)\n",
    "cat(j,\".. \")\n",
    "dat.x=matrix(rnorm(N*p),N,p)\n",
    "dat.y = 210+dat.x%*%beta+rnorm(N)\n",
    "\n",
    "\n",
    "ind_split = sample(N,n)\n",
    "x = dat.x[ind_split,]; y = dat.y[ind_split]\n",
    "x0 = dat.x[-ind_split,]; y0 = dat.y[-ind_split]\n",
    "\n",
    "# Tilting\n",
    "i0 = wsample(w(x0,eta))\n",
    "\n",
    "\n",
    "n0 = floor(length(i0))\n",
    "x00 = x0[i0,]; y00 = y0[i0]\n",
    "\n",
    "x_tmp = x_all = rbind(x,x00)\n",
    "\n",
    "# x_all[,1] = exp(x_tmp[,1] /2)\n",
    "# x_all[,2] = x_tmp[,2] /(1+exp(x_tmp[,2]))+10\n",
    "# x_all[,3] = (x_tmp[,1]*x_tmp[,3]/25+0.6)^3\n",
    "# x_all[,4] = (x_tmp[,2]+ x_tmp[,4] +20)^2\n",
    "# x = x_all[1:nrow(x),]\n",
    "# x00 = x_all[(1+nrow(x)):(nrow(x00)+nrow(x)),]\n",
    "\n",
    "t_all = as.factor(c(rep(0,nrow(x)),rep(1,nrow(x00))))\n",
    "\n",
    "\n",
    "ind_train_0 = sample(1:nrow(x),floor(nrow(x)*prop_train*2))\n",
    "ind_train_D1 = ind_train_0[1:floor(length(ind_train_0)/2)]\n",
    "ind_train_D20 = ind_train_0[-(1:floor(length(ind_train_0)/2))]\n",
    "ind_train_D21 =sample(1:nrow(x00),floor(nrow(x00)*prop_train))\n",
    "ind_train_D2 =c(ind_train_D20,nrow(x)+ind_train_D21)    \n",
    "\n",
    "\n",
    "\n",
    "x_train0=x[ind_train_0,]\n",
    "y_train0=y[ind_train_0]\n",
    "\n",
    "\n",
    "x_D20=x[ind_train_D20,]\n",
    "x_D2=x_all[ind_train_D2,]\n",
    "y_D2=y[ind_train_D20]\n",
    "t_D2=t_all[ind_train_D2]\n",
    "\n",
    "x_val = x_all[-c(ind_train_0,ind_train_D2),]\n",
    "\n",
    "x_val0 = x[-c(ind_train_0,ind_train_D20),]\n",
    "y_val0 = y[-c(ind_train_0,ind_train_D20)]\n",
    "t_val = t_all[-c(ind_train_0,ind_train_D2)]\n",
    "\n",
    "\n",
    "\n",
    "sl_r = SuperLearner(Y = as.numeric(y_train0), X = data.frame(x_train0),\n",
    "                    SL.library = method_r)\n",
    "\n",
    "pred = predict(sl_r, data.frame(x_val0), onlySL = TRUE)\n",
    "\n",
    "r_D2 = abs(y_D2-predict(sl_r, data.frame(x_D20), onlySL = TRUE)$pred[,1])\n",
    "\n",
    "r_val = abs(y_val0-pred$pred[,1])\n",
    "\n",
    "r_0=c(r_D2,r_val)\n",
    "\n",
    "r_append_D3=c(r_val,rep(0,nrow(x00) - length(ind_train_D21) ))\n",
    "########finish r#####\n",
    "m_sl=function(theta,xnew,ytrain,xtrain,method=method_m){\n",
    "  xnew = data.frame(xnew)\n",
    "  sl_m = SuperLearner(Y = ytrain, X = data.frame(xtrain), family = binomial(),\n",
    "                      SL.library = method)\n",
    "  pred = predict(sl_m, xnew, onlySL = TRUE)\n",
    "  return(pred$pred[,1])\n",
    "}\n",
    "\n",
    "\n",
    "\n",
    "pi_sl = function(xnew,ytrain,xtrain,method=method_pi, truncate_hi = truncate, truncate_lo = 0.1){\n",
    "  #bw <- npcdistbw(r_train0~x_train0)\n",
    "  xnew = data.frame(xnew)\n",
    "  sl_pi = SuperLearner(Y = ytrain, X = data.frame(xtrain), family = binomial(),SL.library = method)\n",
    "  pred = predict(sl_pi, xnew, onlySL = TRUE)\n",
    "  prob = pred$pred[, 1]\n",
    "  prob = pmax(pmin(pred$pred[, 1], truncate), truncate_lo)\n",
    "  #prob = pmax(pmin(pred$pred[, 1], 1), )\n",
    "  #return(prob)\n",
    "  #prob = pmin(prob, truncate_hi)\n",
    "  #prob = pmax(prob, truncate_lo)\n",
    "  odds = (prob/(1-prob))\n",
    "  return(pmin(odds, truncate_hi))\n",
    "  #return(odds)\n",
    "  #return(odds)\n",
    "}\n",
    "# df=data.frame(x_D2)\n",
    "# df$group = as.numeric(t_D2)-1\n",
    "# gbm1 <- gbm(group~., distribution =\"bernoulli\", data = df, cv.folds=5) \n",
    "# pihat <- predict(gbm1, newdata = data.frame(x_D2))\n",
    "# pred = ifelse(pihat>0.5,1,0)\n",
    "# table(pred,df$group)\n",
    "# \n",
    "# rf1 = randomForest(factor(as.numeric(t_D2)-1)~., data = data.frame(x_D2), proximity=T)\n",
    "# pihat2 = predict(rf1, data = data.frame(x_D2))\n",
    "# table(pihat2, df$group)\n",
    "# \n",
    "t=0"
   ]
  },
  {
   "cell_type": "code",
   "execution_count": 11,
   "metadata": {},
   "outputs": [],
   "source": [
    "truncate = 0.9\n",
    "t=1"
   ]
  },
  {
   "cell_type": "code",
   "execution_count": 14,
   "metadata": {},
   "outputs": [
    {
     "data": {
      "text/html": [
       "1.66135091546536"
      ],
      "text/latex": [
       "1.66135091546536"
      ],
      "text/markdown": [
       "1.66135091546536"
      ],
      "text/plain": [
       "[1] 1.661351"
      ]
     },
     "metadata": {},
     "output_type": "display_data"
    }
   ],
   "source": [
    "tmp_pi = pi_sl(x_val,as.numeric(t_D2)-1,x_D2,method=method_pi, truncate_hi = truncate)\n",
    "#summary(pi_sl(x_val,as.numeric(t_D2)-1,x_D2,method=method_pi, truncate = 1))\n",
    "# sum(is.infinite(tmp))\n",
    "# summary((tmp))\n",
    "\n",
    "\n",
    "if (sum(is.infinite(tmp_pi))>0){\n",
    "rhat = max(r_append_D3)\n",
    "truncation_mat[l,t,j]=1\n",
    "}else{\n",
    "f= function(theta){ \n",
    "tmp_m = m_sl(theta,x_val,as.numeric(r_D2<=theta),x_D20,method=method_m)\n",
    "mean(I(t_val==0)*tmp_pi*(I(r_append_D3<=theta)-tmp_m)+I(t_val==1)*(tmp_m-(1-alpha)) )}\n",
    "#f= function(theta){ mean(I(t_val==0)*pi_np(x_val)*(I(r_val<=theta)-m(rep(theta, nrow(x_val)),x_val))+I(t_val==1)*(m(rep(theta, nrow(x_val)),x_val)-(1-alpha)) )}\n",
    "\n",
    "rhat = try(uniroot(f,c(1,max(r_0)/2),extendInt = \"yes\",tol=0.1)$root)}\n",
    "rhat"
   ]
  },
  {
   "cell_type": "code",
   "execution_count": 15,
   "metadata": {},
   "outputs": [],
   "source": [
    "pred_r_new = predict(sl_r, data.frame(x00), onlySL = TRUE)\n",
    "out_if_up=rhat+pred_r_new$pred[,1]\n",
    "out_if_lo=-rhat+pred_r_new$pred[,1]\n",
    "#out_if_up=rhat+predict(r_model,data.frame(x00))\n",
    "#out_if_lo=-rhat+predict(r_model,data.frame(x00))\n",
    "\n",
    "cov.mat[l,t,j,1] = mean(out_if_lo <= y00 & y00 <= out_if_up)\n",
    "len.mat[l,t,j,1] = median(out_if_up - out_if_lo)"
   ]
  },
  {
   "cell_type": "code",
   "execution_count": 17,
   "metadata": {},
   "outputs": [
    {
     "data": {
      "text/html": [
       "1.66135091546536"
      ],
      "text/latex": [
       "1.66135091546536"
      ],
      "text/markdown": [
       "1.66135091546536"
      ],
      "text/plain": [
       "[1] 1.661351"
      ]
     },
     "metadata": {},
     "output_type": "display_data"
    }
   ],
   "source": [
    "rhat"
   ]
  },
  {
   "cell_type": "code",
   "execution_count": 24,
   "metadata": {},
   "outputs": [
    {
     "data": {
      "text/html": [
       "1.95996398454005"
      ],
      "text/latex": [
       "1.95996398454005"
      ],
      "text/markdown": [
       "1.95996398454005"
      ],
      "text/plain": [
       "[1] 1.959964"
      ]
     },
     "metadata": {},
     "output_type": "display_data"
    }
   ],
   "source": [
    "qnorm(0.975)"
   ]
  },
  {
   "cell_type": "code",
   "execution_count": 25,
   "metadata": {},
   "outputs": [
    {
     "data": {
      "text/html": [
       "1.64485362695147"
      ],
      "text/latex": [
       "1.64485362695147"
      ],
      "text/markdown": [
       "1.64485362695147"
      ],
      "text/plain": [
       "[1] 1.644854"
      ]
     },
     "metadata": {},
     "output_type": "display_data"
    }
   ],
   "source": [
    "qnorm(0.95)"
   ]
  },
  {
   "cell_type": "code",
   "execution_count": null,
   "metadata": {},
   "outputs": [],
   "source": []
  }
 ],
 "metadata": {
  "kernelspec": {
   "display_name": "R",
   "language": "R",
   "name": "ir"
  },
  "language_info": {
   "codemirror_mode": "r",
   "file_extension": ".r",
   "mimetype": "text/x-r-source",
   "name": "R",
   "pygments_lexer": "r",
   "version": "4.0.2"
  }
 },
 "nbformat": 4,
 "nbformat_minor": 4
}
